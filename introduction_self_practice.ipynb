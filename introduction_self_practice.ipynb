{
 "cells": [
  {
   "cell_type": "code",
   "execution_count": null,
   "metadata": {},
   "outputs": [
    {
     "data": {
      "text/plain": [
       "500.0"
      ]
     },
     "execution_count": 3,
     "metadata": {},
     "output_type": "execute_result"
    }
   ],
   "source": [
    "1000/2"
   ]
  },
  {
   "cell_type": "code",
   "execution_count": 6,
   "metadata": {},
   "outputs": [
    {
     "name": "stdout",
     "output_type": "stream",
     "text": [
      "Alice 24\n",
      "Bob 23\n"
     ]
    }
   ],
   "source": [
    "age_of={\n",
    "    \"Alice\": 24,\n",
    "    \"Bob\": 23\n",
    "}\n",
    "\n",
    "for name, age in age_of.items():\n",
    "    print(name, age)"
   ]
  },
  {
   "cell_type": "code",
   "execution_count": 10,
   "metadata": {},
   "outputs": [
    {
     "name": "stdout",
     "output_type": "stream",
     "text": [
      "10\n",
      "20\n",
      "62\n",
      "18\n",
      "44\n"
     ]
    }
   ],
   "source": [
    "nums = [5,10,31,9, 22]\n",
    "for i in nums:\n",
    "    print(2*i)"
   ]
  },
  {
   "cell_type": "code",
   "execution_count": 11,
   "metadata": {},
   "outputs": [
    {
     "data": {
      "text/plain": [
       "[10, 22]"
      ]
     },
     "execution_count": 11,
     "metadata": {},
     "output_type": "execute_result"
    }
   ],
   "source": [
    "double_evens = [i for i in nums if i %2==0]"
   ]
  },
  {
   "cell_type": "code",
   "execution_count": 1,
   "metadata": {},
   "outputs": [
    {
     "ename": "TypeError",
     "evalue": "unhashable type: 'list'",
     "output_type": "error",
     "traceback": [
      "\u001b[0;31m---------------------------------------------------------------------------\u001b[0m",
      "\u001b[0;31mTypeError\u001b[0m                                 Traceback (most recent call last)",
      "Cell \u001b[0;32mIn [1], line 15\u001b[0m\n\u001b[1;32m      1\u001b[0m \u001b[39m# families = {\u001b[39;00m\n\u001b[1;32m      2\u001b[0m \u001b[39m#     \"parents\": [],\u001b[39;00m\n\u001b[1;32m      3\u001b[0m \u001b[39m#     \"children\": []\u001b[39;00m\n\u001b[0;32m   (...)\u001b[0m\n\u001b[1;32m     10\u001b[0m     \n\u001b[1;32m     11\u001b[0m \u001b[39m#     ]\u001b[39;00m\n\u001b[1;32m     13\u001b[0m families \u001b[39m=\u001b[39m [\n\u001b[1;32m     14\u001b[0m     \n\u001b[0;32m---> 15\u001b[0m         {[\u001b[39m\"\u001b[39m\u001b[39mmichael\u001b[39m\u001b[39m\"\u001b[39m, \u001b[39m\"\u001b[39m\u001b[39malice\u001b[39m\u001b[39m\"\u001b[39m] : [\u001b[39m\"\u001b[39m\u001b[39mbaby\u001b[39m\u001b[39m\"\u001b[39m, \u001b[39m\"\u001b[39m\u001b[39mhoney\u001b[39m\u001b[39m\"\u001b[39m]},\n\u001b[1;32m     16\u001b[0m         {[\u001b[39m\"\u001b[39m\u001b[39malice\u001b[39m\u001b[39m\"\u001b[39m, \u001b[39m\"\u001b[39m\u001b[39mjohn\u001b[39m\u001b[39m\"\u001b[39m] : [\u001b[39m\"\u001b[39m\u001b[39maaa\u001b[39m\u001b[39m\"\u001b[39m, \u001b[39m\"\u001b[39m\u001b[39mbbb\u001b[39m\u001b[39m\"\u001b[39m]}\n\u001b[1;32m     17\u001b[0m     \n\u001b[1;32m     18\u001b[0m     ]\n",
      "\u001b[0;31mTypeError\u001b[0m: unhashable type: 'list'"
     ]
    }
   ],
   "source": [
    "# families = {\n",
    "#     \"parents\": [],\n",
    "#     \"children\": []\n",
    "# }\n",
    "\n",
    "# families = [\n",
    "    \n",
    "#         {(\"michael\", \"alice\") : [\"baby\", \"honey\"]},\n",
    "#         {(\"alice\", \"john\") : [\"aaa\", \"bbb\"]}\n",
    "    \n",
    "#     ]\n",
    "\n",
    "families = [\n",
    "    \n",
    "        {[\"michael\", \"alice\"] : [\"baby\", \"honey\"]},\n",
    "        {[\"alice\", \"john\"] : [\"aaa\", \"bbb\"]}\n",
    "    \n",
    "    ]"
   ]
  },
  {
   "cell_type": "code",
   "execution_count": 30,
   "metadata": {},
   "outputs": [
    {
     "data": {
      "text/plain": [
       "('ab', 'puuu')"
      ]
     },
     "execution_count": 30,
     "metadata": {},
     "output_type": "execute_result"
    }
   ],
   "source": [
    "test = {}\n",
    "test[0] = (\"alice\", \"puuu\")\n",
    "test[0] = (\"ab\", \"puuu\")\n",
    "\n",
    "test[0]"
   ]
  },
  {
   "cell_type": "code",
   "execution_count": 3,
   "metadata": {},
   "outputs": [
    {
     "ename": "TypeError",
     "evalue": "'tuple' object does not support item assignment",
     "output_type": "error",
     "traceback": [
      "\u001b[0;31m---------------------------------------------------------------------------\u001b[0m",
      "\u001b[0;31mTypeError\u001b[0m                                 Traceback (most recent call last)",
      "Cell \u001b[0;32mIn [3], line 2\u001b[0m\n\u001b[1;32m      1\u001b[0m mytuple \u001b[39m=\u001b[39m (\u001b[39m1\u001b[39m, \u001b[39m2\u001b[39m, \u001b[39m3\u001b[39m)\n\u001b[0;32m----> 2\u001b[0m mytuple[\u001b[39m0\u001b[39;49m] \u001b[39m=\u001b[39m \u001b[39m999\u001b[39m\n",
      "\u001b[0;31mTypeError\u001b[0m: 'tuple' object does not support item assignment"
     ]
    }
   ],
   "source": [
    "# tuple is immutable\n",
    "mytuple = (1, 2, 3)\n",
    "mytuple[0] = 999"
   ]
  },
  {
   "cell_type": "code",
   "execution_count": 2,
   "metadata": {},
   "outputs": [
    {
     "data": {
      "text/plain": [
       "('London', 'Nottinghame', 'Manchester', 'Leeds')"
      ]
     },
     "execution_count": 2,
     "metadata": {},
     "output_type": "execute_result"
    }
   ],
   "source": [
    "#using zip function\n",
    "exe = [\n",
    "    [\"Alice\", 23, \"London\"],\n",
    "    [\"Bob\", 25, \"Nottinghame\"],\n",
    "    [\"Charles\", 41, \"Manchester\"],\n",
    "    [\"Dianne\", 18, \"Leeds\"]\n",
    "]\n",
    "exe_name, exe_ages, exe_city = zip(*exe)"
   ]
  },
  {
   "cell_type": "code",
   "execution_count": 82,
   "metadata": {},
   "outputs": [
    {
     "data": {
      "text/plain": [
       "'hello, world'"
      ]
     },
     "execution_count": 82,
     "metadata": {},
     "output_type": "execute_result"
    }
   ],
   "source": [
    "from typing import List\n",
    "\n",
    "def concat(l: List[str]) -> str:\n",
    "    return ', '.join(l)\n",
    "\n",
    "concat([\"hello\", \"world\"])"
   ]
  }
 ],
 "metadata": {
  "kernelspec": {
   "display_name": "Python 3.8.2 64-bit",
   "language": "python",
   "name": "python3"
  },
  "language_info": {
   "codemirror_mode": {
    "name": "ipython",
    "version": 3
   },
   "file_extension": ".py",
   "mimetype": "text/x-python",
   "name": "python",
   "nbconvert_exporter": "python",
   "pygments_lexer": "ipython3",
   "version": "3.8.2"
  },
  "orig_nbformat": 4,
  "vscode": {
   "interpreter": {
    "hash": "31f2aee4e71d21fbe5cf8b01ff0e069b9275f58929596ceb00d14d90e3e16cd6"
   }
  }
 },
 "nbformat": 4,
 "nbformat_minor": 2
}
